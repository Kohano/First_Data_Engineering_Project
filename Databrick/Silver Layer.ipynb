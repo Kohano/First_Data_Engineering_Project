{
 "cells": [
  {
   "cell_type": "code",
   "execution_count": 0,
   "metadata": {
    "application/vnd.databricks.v1+cell": {
     "cellMetadata": {
      "byteLimit": 2048000,
      "implicitDf": true,
      "rowLimit": 10000
     },
     "inputWidgets": {},
     "nuid": "abf51025-950a-4870-8bbf-07a0755fd1ed",
     "showTitle": false,
     "tableResultSettingsMap": {},
     "title": ""
    }
   },
   "outputs": [],
   "source": [
    "%sql\n",
    "DROP TABLE IF EXISTS new_transformer.silver.silver_bike_data;\n",
    "DROP TABLE IF EXISTS new_transformer.silver.silver_weather_data;"
   ]
  },
  {
   "cell_type": "code",
   "execution_count": 0,
   "metadata": {
    "application/vnd.databricks.v1+cell": {
     "cellMetadata": {
      "byteLimit": 2048000,
      "implicitDf": true,
      "rowLimit": 10000
     },
     "inputWidgets": {},
     "nuid": "6388df3d-cc39-4c38-97fb-afee0a33b807",
     "showTitle": false,
     "tableResultSettingsMap": {},
     "title": ""
    }
   },
   "outputs": [],
   "source": [
    "%sql\n",
    "CREATE TABLE IF NOT EXISTS new_transformer.silver.silver_bike_data (\n",
    "    id STRING,\n",
    "    bike_station_name STRING,\n",
    "    latitude DOUBLE,\n",
    "    longitude DOUBLE,\n",
    "    timestamp STRING,\n",
    "    free_bikes BIGINT,\n",
    "    empty_slots BIGINT,\n",
    "    renting BOOLEAN,\n",
    "    returning BOOLEAN,\n",
    "    slots BIGINT,\n",
    "    normal_bikes BIGINT \n",
    ");\n",
    "\n",
    "\n",
    "Create Table if Not Exists new_transformer.silver.silver_weather_data (\n",
    "    temp DOUBLE,\n",
    "    dt_txt STRING,    \n",
    "    weather_station_name STRING,\n",
    "    country STRING\n",
    ")"
   ]
  },
  {
   "cell_type": "code",
   "execution_count": 0,
   "metadata": {
    "application/vnd.databricks.v1+cell": {
     "cellMetadata": {
      "byteLimit": 2048000,
      "rowLimit": 10000
     },
     "inputWidgets": {},
     "nuid": "b24ae562-3bbd-4fd4-b9a0-38946239ac8f",
     "showTitle": false,
     "tableResultSettingsMap": {},
     "title": ""
    }
   },
   "outputs": [],
   "source": [
    "df_bike = spark.table(\"new_transformer.bronze.bikedata\")\n",
    "df_weather = spark.table(\"new_transformer.bronze.weather\")"
   ]
  },
  {
   "cell_type": "code",
   "execution_count": 0,
   "metadata": {
    "application/vnd.databricks.v1+cell": {
     "cellMetadata": {
      "byteLimit": 2048000,
      "rowLimit": 10000
     },
     "inputWidgets": {},
     "nuid": "4bd5ee68-e913-4dde-be7c-abf402a5e605",
     "showTitle": true,
     "tableResultSettingsMap": {},
     "title": "5"
    }
   },
   "outputs": [],
   "source": [
    "df_bike = df_bike.withColumnRenamed(\"name\", \"bike_station_name\")\n",
    "df_weather = df_weather.withColumnRenamed(\"name\", \"weather_station_name\")\n",
    "df_bike.columns\n"
   ]
  },
  {
   "cell_type": "code",
   "execution_count": 0,
   "metadata": {
    "application/vnd.databricks.v1+cell": {
     "cellMetadata": {
      "byteLimit": 2048000,
      "rowLimit": 10000
     },
     "inputWidgets": {},
     "nuid": "ba765c0d-411f-4649-82a1-24477c6ea287",
     "showTitle": false,
     "tableResultSettingsMap": {},
     "title": ""
    }
   },
   "outputs": [],
   "source": [
    "unwanted_bike_col = ['uid','last_updated','android','ios','virtual']\n",
    "unwanted_weather_col = ['dt','temp_min','temp_max','pressure','sea_level','grnd_level','humidity','temp_kf','all','speed','deg','gust','pop','pod','cod','message','cnt','city_id','lat','lon','population','timezone','sunrise','sunset','feels_like','visibility']\n",
    "\n",
    "bike_df_clean = df_bike.drop(*unwanted_bike_col).na.drop()\n",
    "weather_df_clean = df_weather.drop(*unwanted_weather_col).na.drop()\n"
   ]
  },
  {
   "cell_type": "code",
   "execution_count": 0,
   "metadata": {
    "application/vnd.databricks.v1+cell": {
     "cellMetadata": {
      "byteLimit": 2048000,
      "rowLimit": 10000
     },
     "inputWidgets": {},
     "nuid": "f86007de-1776-446c-9404-9267a1da0ed1",
     "showTitle": false,
     "tableResultSettingsMap": {},
     "title": ""
    }
   },
   "outputs": [],
   "source": [
    "df_cleaned = bike_df_clean.dropDuplicates()\n",
    "df_weather = weather_df_clean.dropDuplicates()\n"
   ]
  },
  {
   "cell_type": "code",
   "execution_count": 0,
   "metadata": {
    "application/vnd.databricks.v1+cell": {
     "cellMetadata": {
      "byteLimit": 2048000,
      "rowLimit": 10000
     },
     "inputWidgets": {},
     "nuid": "657f4eb3-fa3c-4aea-8300-05c04af7a5c3",
     "showTitle": false,
     "tableResultSettingsMap": {},
     "title": ""
    }
   },
   "outputs": [],
   "source": [
    "df_cleaned.dtypes"
   ]
  },
  {
   "cell_type": "code",
   "execution_count": 0,
   "metadata": {
    "application/vnd.databricks.v1+cell": {
     "cellMetadata": {
      "byteLimit": 2048000,
      "rowLimit": 10000
     },
     "inputWidgets": {},
     "nuid": "6db78bd5-8a54-4202-91e7-0770d91b5ad8",
     "showTitle": false,
     "tableResultSettingsMap": {},
     "title": ""
    }
   },
   "outputs": [],
   "source": [
    "df_cleaned.write \\\n",
    "    .mode(\"overwrite\") \\\n",
    "    .option(\"mergeSchema\", \"true\") \\\n",
    "    .saveAsTable(\"new_transformer.silver.silver_bike_data\")\n",
    "\n",
    "df_weather.write \\\n",
    "    .mode(\"overwrite\") \\\n",
    "    .option(\"mergeSchema\", \"true\") \\\n",
    "    .saveAsTable(\"new_transformer.silver.silver_weather_data\")\n",
    "\n"
   ]
  },
  {
   "cell_type": "code",
   "execution_count": 0,
   "metadata": {
    "application/vnd.databricks.v1+cell": {
     "cellMetadata": {
      "byteLimit": 2048000,
      "implicitDf": true,
      "rowLimit": 10000
     },
     "inputWidgets": {},
     "nuid": "53547410-74b0-4d1b-9ed4-50bf91818dd7",
     "showTitle": false,
     "tableResultSettingsMap": {
      "0": {
       "dataGridStateBlob": "{\"version\":1,\"tableState\":{\"columnPinning\":{\"left\":[\"#row_number#\"],\"right\":[]},\"columnSizing\":{\"bike_station_name\":159,\"id\":90,\"timestamp\":231,\"free_bikes\":101,\"empty_slots\":107,\"renting\":90},\"columnVisibility\":{}},\"settings\":{\"columns\":{}},\"syncTimestamp\":1753356317768}",
       "filterBlob": null,
       "queryPlanFiltersBlob": null,
       "tableResultIndex": 0
      }
     },
     "title": ""
    }
   },
   "outputs": [],
   "source": [
    "%sql\n",
    "SELECT * FROM new_transformer.silver.silver_bike_data Where bike_station_name = 'Apostelnkloster / Am Pastor-Könn-Platz';"
   ]
  },
  {
   "cell_type": "code",
   "execution_count": 0,
   "metadata": {
    "application/vnd.databricks.v1+cell": {
     "cellMetadata": {
      "byteLimit": 2048000,
      "implicitDf": true,
      "rowLimit": 10000
     },
     "inputWidgets": {},
     "nuid": "41b09618-e135-4776-8883-938af2885d02",
     "showTitle": false,
     "tableResultSettingsMap": {},
     "title": ""
    }
   },
   "outputs": [],
   "source": [
    "%sql\n",
    "SELECT * FROM new_transformer.silver.silver_weather_data LIMIT 10"
   ]
  }
 ],
 "metadata": {
  "application/vnd.databricks.v1+notebook": {
   "computePreferences": null,
   "dashboards": [],
   "environmentMetadata": {
    "base_environment": "",
    "environment_version": "2"
   },
   "inputWidgetPreferences": null,
   "language": "python",
   "notebookMetadata": {
    "mostRecentlyExecutedCommandWithImplicitDF": {
     "commandId": 7269590704306374,
     "dataframes": [
      "_sqldf"
     ]
    },
    "pythonIndentUnit": 4
   },
   "notebookName": "Silver Layer",
   "widgets": {}
  },
  "language_info": {
   "name": "python"
  }
 },
 "nbformat": 4,
 "nbformat_minor": 0
}
