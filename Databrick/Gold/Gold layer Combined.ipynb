{
 "cells": [
  {
   "cell_type": "code",
   "execution_count": 0,
   "metadata": {
    "application/vnd.databricks.v1+cell": {
     "cellMetadata": {
      "byteLimit": 2048000,
      "implicitDf": true,
      "rowLimit": 10000
     },
     "inputWidgets": {},
     "nuid": "25227d52-e628-4fa6-b4d2-2a7c0ed3c62f",
     "showTitle": false,
     "tableResultSettingsMap": {},
     "title": ""
    }
   },
   "outputs": [],
   "source": [
    "%sql\n",
    "select * from data_transformation.gold.refined_weather_data limit 1;"
   ]
  },
  {
   "cell_type": "code",
   "execution_count": 0,
   "metadata": {
    "application/vnd.databricks.v1+cell": {
     "cellMetadata": {
      "byteLimit": 2048000,
      "implicitDf": true,
      "rowLimit": 10000
     },
     "inputWidgets": {},
     "nuid": "60a4fa00-5d61-4d7d-a4b2-799cdfc3b514",
     "showTitle": false,
     "tableResultSettingsMap": {},
     "title": ""
    }
   },
   "outputs": [],
   "source": [
    "%sql\n",
    "select * from data_transformation.gold.daily_ridership_per_station limit 1;"
   ]
  },
  {
   "cell_type": "code",
   "execution_count": 0,
   "metadata": {
    "application/vnd.databricks.v1+cell": {
     "cellMetadata": {
      "byteLimit": 2048000,
      "implicitDf": true,
      "rowLimit": 10000
     },
     "inputWidgets": {},
     "nuid": "f01b2caa-7464-4989-9d9d-759bd265b509",
     "showTitle": false,
     "tableResultSettingsMap": {},
     "title": ""
    }
   },
   "outputs": [],
   "source": [
    "%sql\n",
    "CREATE VIEW data_transformation.gold.For_Graph AS\n",
    "SELECT \n",
    "    name,\n",
    "    latitude,\n",
    "    longitude,\n",
    "    daily_ridership_per_station.date,\n",
    "    min_free_bikes,\n",
    "    max_free_bikes,\n",
    "    avg_free_bikes,\n",
    "    total_capacity,\n",
    "    temprature,\n",
    "    feels_like,\n",
    "    humidity,\n",
    "    minimum_temprature,\n",
    "    maximum_temprature,\n",
    "    wind_speed\n",
    "FROM data_transformation.gold.daily_ridership_per_station\n",
    "JOIN data_transformation.gold.refined_weather_data\n",
    "    ON daily_ridership_per_station.date = refined_weather_data.date;\n",
    "    \n",
    "SELECT * FROM For_Graph;"
   ]
  }
 ],
 "metadata": {
  "application/vnd.databricks.v1+notebook": {
   "computePreferences": null,
   "dashboards": [],
   "environmentMetadata": {
    "base_environment": "",
    "environment_version": "2"
   },
   "inputWidgetPreferences": null,
   "language": "python",
   "notebookMetadata": {
    "mostRecentlyExecutedCommandWithImplicitDF": {
     "commandId": 6518446367976987,
     "dataframes": [
      "_sqldf"
     ]
    },
    "pythonIndentUnit": 4
   },
   "notebookName": "Gold layer Combined",
   "widgets": {}
  },
  "language_info": {
   "name": "python"
  }
 },
 "nbformat": 4,
 "nbformat_minor": 0
}
