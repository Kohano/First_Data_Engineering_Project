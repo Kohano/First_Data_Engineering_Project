{
 "cells": [
  {
   "cell_type": "code",
   "execution_count": 0,
   "metadata": {
    "application/vnd.databricks.v1+cell": {
     "cellMetadata": {
      "byteLimit": 2048000,
      "implicitDf": true,
      "rowLimit": 10000
     },
     "inputWidgets": {},
     "nuid": "c3b9372b-09fa-4b03-8444-0d2fc1bb95e7",
     "showTitle": false,
     "tableResultSettingsMap": {},
     "title": ""
    }
   },
   "outputs": [],
   "source": [
    "%sql\n",
    "drop table if exists data_transformation.bronze.bronze_historical_weather;\n",
    "Create table if not exists data_transformation.bronze.bronze_historical_weather;"
   ]
  },
  {
   "cell_type": "code",
   "execution_count": 0,
   "metadata": {
    "application/vnd.databricks.v1+cell": {
     "cellMetadata": {
      "byteLimit": 2048000,
      "rowLimit": 10000
     },
     "inputWidgets": {},
     "nuid": "00e943c5-2ae3-44f6-b80a-5e43d264f78f",
     "showTitle": false,
     "tableResultSettingsMap": {},
     "title": ""
    }
   },
   "outputs": [],
   "source": [
    "\n",
    "path1 = \"abfss://rawdata@datasavergenv2.dfs.core.windows.net/Weather_Historical_Raw_Data/Weather_Historical_Data1/\"\n",
    "path2 = \"abfss://rawdata@datasavergenv2.dfs.core.windows.net/Weather_Historical_Raw_Data/Weather_Historical_Datatwo/\"\n",
    "path3 = \"abfss://rawdata@datasavergenv2.dfs.core.windows.net/Weather_Historical_Raw_Data/Weather_Historical_Data3/\"\n",
    "path4 = \"abfss://rawdata@datasavergenv2.dfs.core.windows.net/Weather_Historical_Raw_Data/Weather_Historical_Data4/\"\n",
    "\n",
    "df1 = spark.read.format(\"parquet\").load(path1)\n",
    "df2 = spark.read.format(\"parquet\").load(path2)\n",
    "df3 = spark.read.format(\"parquet\").load(path3)\n",
    "df4 = spark.read.format(\"parquet\").load(path4)\n",
    "\n",
    "\n",
    "df_all = df1.unionByName(df2).unionByName(df3).unionByName(df4)\n",
    "\n",
    "\n",
    "df_all.write.mode(\"overwrite\").format(\"delta\").option(\"overwriteSchema\", \"true\").saveAsTable('data_transformation.bronze.bronze_historical_weather')\n"
   ]
  },
  {
   "cell_type": "code",
   "execution_count": 0,
   "metadata": {
    "application/vnd.databricks.v1+cell": {
     "cellMetadata": {
      "byteLimit": 2048000,
      "implicitDf": true,
      "rowLimit": 10000
     },
     "inputWidgets": {},
     "nuid": "eb0900de-29e1-4053-93ae-820642df621b",
     "showTitle": false,
     "tableResultSettingsMap": {},
     "title": ""
    }
   },
   "outputs": [],
   "source": [
    "%sql\n",
    "select * from data_transformation.bronze.bronze_historical_weather "
   ]
  },
  {
   "cell_type": "code",
   "execution_count": 0,
   "metadata": {
    "application/vnd.databricks.v1+cell": {
     "cellMetadata": {
      "byteLimit": 2048000,
      "rowLimit": 10000
     },
     "inputWidgets": {},
     "nuid": "7a5b0168-ec4c-4c71-937e-3eb85883d588",
     "showTitle": false,
     "tableResultSettingsMap": {},
     "title": ""
    }
   },
   "outputs": [],
   "source": [
    "df_historical_weather.columns"
   ]
  }
 ],
 "metadata": {
  "application/vnd.databricks.v1+notebook": {
   "computePreferences": null,
   "dashboards": [],
   "environmentMetadata": {
    "base_environment": "",
    "environment_version": "2"
   },
   "inputWidgetPreferences": null,
   "language": "python",
   "notebookMetadata": {
    "mostRecentlyExecutedCommandWithImplicitDF": {
     "commandId": 6061804621046054,
     "dataframes": [
      "_sqldf"
     ]
    },
    "pythonIndentUnit": 4
   },
   "notebookName": "bronze Weather data",
   "widgets": {}
  },
  "language_info": {
   "name": "python"
  }
 },
 "nbformat": 4,
 "nbformat_minor": 0
}
