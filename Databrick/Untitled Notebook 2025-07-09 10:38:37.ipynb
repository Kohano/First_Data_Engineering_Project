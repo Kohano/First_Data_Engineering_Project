{
 "cells": [
  {
   "cell_type": "code",
   "execution_count": 0,
   "metadata": {
    "application/vnd.databricks.v1+cell": {
     "cellMetadata": {},
     "inputWidgets": {},
     "nuid": "aadcc00f-0f3c-400c-9533-060d6c302723",
     "showTitle": false,
     "tableResultSettingsMap": {},
     "title": ""
    }
   },
   "outputs": [],
   "source": [
    "# COMMAND ----------\n",
    "\n",
    "# Simple test to verify that notebook is working\n",
    "\n",
    "print(\"✅ Databricks notebook is working!\")\n",
    "\n",
    "# COMMAND ----------\n",
    "\n",
    "# Spark test to check if Spark context is active\n",
    "\n",
    "df = spark.range(5)\n",
    "df.show()\n",
    "\n",
    "# COMMAND ----------\n",
    "\n",
    "# Check the Databricks runtime version\n",
    "import sys\n",
    "import platform\n",
    "\n",
    "print(f\"Python version: {platform.python_version()}\")\n",
    "print(f\"Databricks runtime version: {spark.conf.get('spark.databricks.clusterUsageTags.sparkVersion')}\")\n"
   ]
  }
 ],
 "metadata": {
  "application/vnd.databricks.v1+notebook": {
   "computePreferences": null,
   "dashboards": [],
   "environmentMetadata": {
    "base_environment": "",
    "environment_version": "2"
   },
   "inputWidgetPreferences": null,
   "language": "python",
   "notebookMetadata": {
    "pythonIndentUnit": 4
   },
   "notebookName": "Untitled Notebook 2025-07-09 10:38:37",
   "widgets": {}
  },
  "language_info": {
   "name": "python"
  }
 },
 "nbformat": 4,
 "nbformat_minor": 0
}
