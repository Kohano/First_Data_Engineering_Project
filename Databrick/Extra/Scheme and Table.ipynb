{
 "cells": [
  {
   "cell_type": "code",
   "execution_count": 0,
   "metadata": {
    "application/vnd.databricks.v1+cell": {
     "cellMetadata": {},
     "inputWidgets": {},
     "nuid": "99682d7e-9d06-4a37-a0a7-f97f4e5d06c2",
     "showTitle": false,
     "tableResultSettingsMap": {},
     "title": ""
    }
   },
   "outputs": [],
   "source": [
    "%sql\n",
    "CREATE SCHEMA IF NOT EXISTS data_transformation.bronze;\n",
    "CREATE SCHEMA IF NOT EXISTS data_transformation.silver;\n",
    "CREATE SCHEMA IF NOT EXISTS data_transformation.gold;"
   ]
  },
  {
   "cell_type": "code",
   "execution_count": 0,
   "metadata": {
    "application/vnd.databricks.v1+cell": {
     "cellMetadata": {},
     "inputWidgets": {},
     "nuid": "d7129418-307c-4a3c-9c20-8426edb75882",
     "showTitle": false,
     "tableResultSettingsMap": {},
     "title": ""
    }
   },
   "outputs": [],
   "source": [
    "%sql\n",
    "CREATE TABLE IF NOT EXISTS data_transformation.bronze.bronze_bike_data;\n",
    "Create table if not exists data_transformation.bronze.bronze_weather_data;\n",
    "Create table if not exists data_transformation.bronze.bronze_historical_Bike;\n",
    "Create table if not exists data_transformation.bronze.bronze_historical_weather;"
   ]
  },
  {
   "cell_type": "code",
   "execution_count": 0,
   "metadata": {
    "application/vnd.databricks.v1+cell": {
     "cellMetadata": {},
     "inputWidgets": {},
     "nuid": "cad80c3e-096a-4080-8fd7-b9fb42c5c21c",
     "showTitle": false,
     "tableResultSettingsMap": {},
     "title": ""
    }
   },
   "outputs": [],
   "source": [
    "%sql\n",
    "ALTER TABLE data_transformation.bronze.bronze_historical_bike \n",
    "SET TBLPROPERTIES ('delta.feature.timestampNtz' = 'supported');"
   ]
  },
  {
   "cell_type": "code",
   "execution_count": 0,
   "metadata": {
    "application/vnd.databricks.v1+cell": {
     "cellMetadata": {},
     "inputWidgets": {},
     "nuid": "f41e356c-cf0c-44f3-90cc-60209980d0a8",
     "showTitle": false,
     "tableResultSettingsMap": {},
     "title": ""
    }
   },
   "outputs": [],
   "source": [
    "%sql\n",
    "CREATE OR REPLACE TABLE data_transformation.silver.silver_bike_data (\n",
    "    id STRING,\n",
    "    bike_station_name STRING,\n",
    "    latitude DOUBLE,\n",
    "    longitude DOUBLE,\n",
    "    timestamp STRING,\n",
    "    free_bikes BIGINT,\n",
    "    empty_slots BIGINT,\n",
    "    renting BOOLEAN,\n",
    "    returning BOOLEAN,\n",
    "    slots BIGINT,\n",
    "    normal_bikes BIGINT \n",
    ");\n",
    "\n",
    "CREATE OR REPLACE TABLE data_transformation.silver.silver_weather_data (\n",
    "    temp DOUBLE,\n",
    "    dt_txt STRING,    \n",
    "    weather_station_name STRING,\n",
    "    country STRING\n",
    ")"
   ]
  },
  {
   "cell_type": "code",
   "execution_count": 0,
   "metadata": {
    "application/vnd.databricks.v1+cell": {
     "cellMetadata": {},
     "inputWidgets": {},
     "nuid": "4f5f4b93-9141-4770-912d-f718cdfaf9b2",
     "showTitle": false,
     "tableResultSettingsMap": {},
     "title": ""
    }
   },
   "outputs": [],
   "source": [
    "%sql\n",
    "DROP TABLE IF EXISTS data_transformation.gold.bike_weather_combined;\n",
    "CREATE TABLE IF NOT EXISTS data_transformation.gold.bike_weather_combined;"
   ]
  }
 ],
 "metadata": {
  "application/vnd.databricks.v1+notebook": {
   "computePreferences": null,
   "dashboards": [],
   "environmentMetadata": {
    "base_environment": "",
    "environment_version": "2"
   },
   "inputWidgetPreferences": null,
   "language": "python",
   "notebookMetadata": {
    "pythonIndentUnit": 4
   },
   "notebookName": "Scheme and Table",
   "widgets": {}
  },
  "language_info": {
   "name": "python"
  }
 },
 "nbformat": 4,
 "nbformat_minor": 0
}
